{
 "cells": [
  {
   "cell_type": "markdown",
   "metadata": {},
   "source": [
    "# Functions"
   ]
  },
  {
   "cell_type": "markdown",
   "metadata": {},
   "source": [
    "### Defining Functions\n",
    "\n",
    "When defining functions, they should ideally:\n",
    "* Perform ONE operation\n",
    "* Have a name that is simple but specific\n",
    "* Be short enough to fit on one editor screen (if not, this is a hint that your function is too long and complicated!)"
   ]
  },
  {
   "cell_type": "code",
   "execution_count": null,
   "metadata": {
    "vscode": {
     "languageId": "cpp"
    }
   },
   "outputs": [
    {
     "name": "stdout",
     "output_type": "stream",
     "text": [
      "input to print\n"
     ]
    }
   ],
   "source": [
    "#include <iostream>\n",
    "\n",
    "void print_string(std::string s) \n",
    "{\n",
    "    std::cout << s << std::endl;\n",
    "}\n",
    "\n",
    "print_string(\"input to print\");"
   ]
  },
  {
   "cell_type": "code",
   "execution_count": 2,
   "metadata": {
    "vscode": {
     "languageId": "cpp"
    }
   },
   "outputs": [
    {
     "name": "stdout",
     "output_type": "stream",
     "text": [
      "Subaru\n"
     ]
    }
   ],
   "source": [
    "std::string get_car_brand (std::string brand = \"Subaru\")\n",
    "{\n",
    "    return brand;\n",
    "}\n",
    "\n",
    "std::cout << get_car_brand() << std::endl;"
   ]
  }
 ],
 "metadata": {
  "kernelspec": {
   "display_name": "C++17",
   "language": "C++17",
   "name": "xcpp17"
  },
  "language_info": {
   "codemirror_mode": "text/x-c++src",
   "file_extension": ".cpp",
   "mimetype": "text/x-c++src",
   "name": "c++",
   "version": "17"
  }
 },
 "nbformat": 4,
 "nbformat_minor": 2
}
